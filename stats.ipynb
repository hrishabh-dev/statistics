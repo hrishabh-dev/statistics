{
 "cells": [
  {
   "cell_type": "markdown",
   "id": "45ce1bfd-90d6-453b-a93c-acf2925276ed",
   "metadata": {},
   "source": [
    "## 1. Explain the properties of the F-distribution"
   ]
  },
  {
   "cell_type": "code",
   "execution_count": 1,
   "id": "c50648f8-e7d6-4bea-b54f-5b99520b4f31",
   "metadata": {},
   "outputs": [],
   "source": [
    "# SOLUTION :-"
   ]
  },
  {
   "cell_type": "code",
   "execution_count": null,
   "id": "fb769519-47d9-40c5-9bd8-ee4c9b1c4d75",
   "metadata": {},
   "outputs": [],
   "source": [
    "'''\n",
    "1-Degrees of Freedom: The F-distribution is characterized by two sets of degrees of freedom:\n",
    "\n",
    " Degrees of freedom of the numerator \n",
    " Degrees of freedom of the denominator \n",
    "\n",
    "2-The F-distribution is positively skewed, meaning it has a longer right tail. The skewness decreases as the degrees of freedom increase.\n",
    "\n",
    "\n",
    "3-Range: The range of the F-distribution is from 0 to INFINIE. It cannot take negative values.\n",
    "\n",
    "\n",
    "4-Use in Hypothesis Testing: The F-distribution is used primarily for hypothesis testing in the context of ANOVA, \n",
    "   comparing variances across groups, and regression diagnostics.\n",
    "\n",
    "5-Reciprocal Property: It has a reciprocal property.\n",
    "\n",
    "'''"
   ]
  },
  {
   "cell_type": "markdown",
   "id": "fdecb414-5419-46a4-8038-cdf0cf45ceba",
   "metadata": {},
   "source": [
    "## 2. In which types of statistical tests is the F-distribution used, and why is it appropriate for these tests?"
   ]
  },
  {
   "cell_type": "code",
   "execution_count": 3,
   "id": "4e3899f3-1e16-4f2d-a6ff-8d54234662ba",
   "metadata": {},
   "outputs": [],
   "source": [
    "# SOLUTION :-"
   ]
  },
  {
   "cell_type": "code",
   "execution_count": null,
   "id": "2e969d30-e85f-4ea5-9fee-aec736d7bb73",
   "metadata": {},
   "outputs": [],
   "source": [
    "'''\n",
    " . :- The F-distribution is primarily used in several types of statistical tests, particularly those \n",
    "       that involve comparing variances or the goodness-of-fit of statistical models.\n",
    "\n",
    "1. Analysis of Variance (ANOVA)\n",
    "       \n",
    "Purpose: ANOVA is used to compare means across multiple groups to determine if at least one group mean\n",
    "         is significantly different from the others.\n",
    "\n",
    "2- Regression Analysis\n",
    "\n",
    "Purpose: In regression analysis, the F-test is used to evaluate the overall fit of the model and to compare\n",
    "        the explanatory power of the model versus a model with no predictors\n",
    "\n",
    "\n",
    "3- Comparing Two Variances\n",
    "Purpose: The F-test can be used to compare the variances of two independent samples to determine if they are significantly different.\n",
    "\n",
    "\n",
    "4- Nested Model Comparison\n",
    "Purpose: In the context of hierarchical or nested models (where one model is a subset of another), the F-test can be used to assess whether the inclusion \n",
    "         of additional parameters or predictors significantly improves the model fit.\n",
    "\n",
    "\n",
    "\n",
    "'''"
   ]
  },
  {
   "cell_type": "markdown",
   "id": "07834633-3887-42f4-8f51-2e1b100ddb54",
   "metadata": {},
   "source": [
    "## 3. What are the key assumptions required for conducting an F-test to compare the variances of two populations?"
   ]
  },
  {
   "cell_type": "code",
   "execution_count": 4,
   "id": "0d6ed49e-40c0-477f-9dd1-2dffa5ed7baf",
   "metadata": {},
   "outputs": [],
   "source": [
    "# SOLUTION :-"
   ]
  },
  {
   "cell_type": "code",
   "execution_count": null,
   "id": "7cea1b19-249c-446f-b4eb-127c4150d93d",
   "metadata": {},
   "outputs": [],
   "source": [
    "'''\n",
    " .  When conducting an F-test to compare the variances of two populations, several key assumptions must be satisfied \n",
    "\n",
    "1-Independence: \n",
    "\n",
    "The samples must be independent of each other.\n",
    "\n",
    "2- Normality:\n",
    "\n",
    "The populations from which the samples are drawn should be normally distributed. \n",
    "\n",
    "3- Random Sampling:\n",
    "\n",
    "The samples must be randomly selected from their respective populations\n",
    "\n",
    "4-Homogeneity of Variances (for a modified context):\n",
    "\n",
    "While this assumption is specifically about the null hypothesis being tested \n",
    "it's important to note that if this assumption is violated, the F-test may yield misleading results.\n",
    "\n",
    "'''"
   ]
  },
  {
   "cell_type": "markdown",
   "id": "da11848b-bcf2-43f9-a376-ed3c2504f880",
   "metadata": {},
   "source": [
    "## 4. What is the purpose of ANOVA, and how does it differ from a t-test? \n"
   ]
  },
  {
   "cell_type": "code",
   "execution_count": 5,
   "id": "7792fcde-a02b-4cf1-86e8-a671dc6ff5b6",
   "metadata": {},
   "outputs": [],
   "source": [
    "# SOLUTION :-"
   ]
  },
  {
   "cell_type": "code",
   "execution_count": null,
   "id": "bfaa5be1-5fb7-4420-80d5-61083b642169",
   "metadata": {},
   "outputs": [],
   "source": [
    "'''\n",
    "ANOVA (Analysis of Variance) is a statistical method used to test the differences between two or more group means.\n",
    "Its primary purposes include:\n",
    "\n",
    "Comparing Multiple Groups: ANOVA allows researchers to determine\n",
    "whether there is a statistically significant difference between the means of three or more groups.\n",
    "\n",
    "Hypothesis Testing: ANOVA tests the null hypothesis that all group means are equal against the alternative\n",
    "hypothesis that at least one group mean is different. \n",
    "\n",
    "\n",
    "\n",
    "t-test:    Primarily designed to compare the means of two groups (independent samples t-test) or\n",
    "           the means of the same group at two different times (paired samples t-test).\n",
    "\n",
    "ANOVA:     Used to compare the means of three or more groups simultaneously. \n",
    "       ANOVA can also handle multiple factors (in the case of factorial ANOVA).\n",
    "\n",
    "\n",
    "\n",
    "\n",
    "\n",
    "\n",
    "t-test: Tests whether the means of two groups are significantly different from each other. \n",
    "        The null hypothesis states that the two means are equal.\n",
    "ANOVA: Tests whether there are any statistically significant differences among three or more group means. \n",
    "      The null hypothesis states that all group means are equal.\n",
    "\n",
    "''''"
   ]
  },
  {
   "cell_type": "markdown",
   "id": "b19e6104-8e46-4274-8d7c-cb3c89c42b09",
   "metadata": {},
   "source": [
    "## 5. Explain when and why you would use a one-way ANOVA instead of multiple t-tests when comparing more than two groups."
   ]
  },
  {
   "cell_type": "code",
   "execution_count": 6,
   "id": "ff07d343-2436-4280-b42d-afe6174c6205",
   "metadata": {},
   "outputs": [],
   "source": [
    "# SOLUTION :-"
   ]
  },
  {
   "cell_type": "code",
   "execution_count": null,
   "id": "b8157cb4-fd8f-4364-b35c-4b9641199785",
   "metadata": {},
   "outputs": [],
   "source": [
    "'''\n",
    "\n",
    "We would choose to use a one-way ANOVA instead of conducting \n",
    "multiple t-tests when comparing more than two groups to assess differences in their means.\n",
    "\n",
    "\n",
    "1`-Comparison of Three or More Groups:\n",
    "\n",
    "When you have three or more groups and you want to determine if there are any statistically significant differences between them\n",
    "\n",
    "\n",
    "2- Controlling Type I Error Rate:\n",
    "\n",
    "Conducting multiple t-tests increases the risk of committing a Type I error \n",
    "\n",
    "\n",
    "3-Efficiency:\n",
    "\n",
    " Instead of having to run multiple tests and interpret multiple results, one \n",
    " ANOVA provides a single test statistic (the F-statistic) to assess group means.\n",
    "\n",
    "'''"
   ]
  },
  {
   "cell_type": "markdown",
   "id": "e16857dd-f41a-4bee-b1fe-f40bd22381ac",
   "metadata": {},
   "source": [
    "## 6. Explain how variance is partitioned in ANOVA into between-group variance and within-group variance.  How does this partitioning contribute to the calculation of the F-statistic?"
   ]
  },
  {
   "cell_type": "code",
   "execution_count": 7,
   "id": "48225f24-ae36-4c2e-a2d6-dac52af56077",
   "metadata": {},
   "outputs": [],
   "source": [
    "# SOLUTION :-"
   ]
  },
  {
   "cell_type": "code",
   "execution_count": null,
   "id": "44b89d39-5f37-4fe1-a68f-d096a9131240",
   "metadata": {},
   "outputs": [],
   "source": [
    "'''\n",
    "\n",
    "In ANOVA (Analysis of Variance), the total variance observed in a dataset is partitioned into two main components:\n",
    "between-group variance and within-group variance. \n",
    "\n",
    "This partitioning is crucial for understanding the sources of variability in the data and is fundamental to the calculation\n",
    "of the F-statistic.\n",
    "\n",
    "\n",
    "1. Total Variance\n",
    "\n",
    "In any dataset, the total variance is a measure of how much the individual data points vary around the overall mean\n",
    "\n",
    "\n",
    "2-Between-Group Variance\n",
    "\n",
    "Between-group variance measures the variability of the group means around the overall mean.\n",
    "It reflects how much the means of the different groups differ from one another\n",
    "\n",
    "3- Within-Group Variance\n",
    "\n",
    "Within-group variance measures the variability of individual observations within each group.\n",
    "\n",
    "\n",
    "'''\n"
   ]
  },
  {
   "cell_type": "markdown",
   "id": "a90a5946-69bc-4ae7-bfb1-b31286422d46",
   "metadata": {},
   "source": [
    "## 7 Compare the classical (frequentist) approach to ANOVA with the Bayesian approach. What are the key differences in terms of how they handle uncertainty, parameter estimation, and hypothesis testing?"
   ]
  },
  {
   "cell_type": "code",
   "execution_count": 8,
   "id": "d0445209-755b-40c2-af58-d0168e7d8b1c",
   "metadata": {},
   "outputs": [],
   "source": [
    "#SOLUTION :-"
   ]
  },
  {
   "cell_type": "code",
   "execution_count": null,
   "id": "95a77f02-94f6-4675-bd7a-a58e7a0627ae",
   "metadata": {},
   "outputs": [],
   "source": [
    "'''\n",
    "\n",
    "    The classical (frequentist) approach to ANOVA and the Bayesian approach to ANOVA offer different philosophies and methodologies \n",
    "    for analyzing data.\n",
    "\n",
    "1 . Handling Uncertainty\n",
    "\n",
    "Frequentist Approach:\n",
    "\n",
    "In the frequentist framework, uncertainty is primarily quantified through confidence intervals and p-values\n",
    "\n",
    "- Bayesian Approach:\n",
    "\n",
    "In the Bayesian framework, uncertainty is expressed through probability distributions.\n",
    "\n",
    "\n",
    "2. Parameter Estimation\n",
    "\n",
    "Frequentist Approach:\n",
    "\n",
    "Parameter estimation is typically based on point estimates \n",
    "\n",
    "\n",
    "3. Hypothesis Testing\n",
    "Frequentist Approach:\n",
    "\n",
    "Hypothesis testing in the frequentist paradigm involves formulating a null hypothesis \n",
    "(e.g., all group means are equal) and an alternative hypothesis.\n",
    "\n",
    "\n",
    "'''\n"
   ]
  },
  {
   "cell_type": "markdown",
   "id": "5694ec36-3017-4035-8b2b-3a9584c8c1d4",
   "metadata": {},
   "source": [
    "## 8. Question: You have two sets of data representing the incomes of two different professions1"
   ]
  },
  {
   "cell_type": "markdown",
   "id": "81807f1e-3aad-4d04-ace2-54230c9daa42",
   "metadata": {},
   "source": [
    "###  Profession A: [48, 52, 55, 60, 62]"
   ]
  },
  {
   "cell_type": "markdown",
   "id": "5d98eb9f-3909-45c9-9ad1-ba2a5d8cf570",
   "metadata": {},
   "source": [
    "### Profession B: [45, 50, 55, 52, 47] Perform an F-test to determine if the variances of the two professions' incomes are equal. What are your conclusions based on the F-test ?\n"
   ]
  },
  {
   "cell_type": "markdown",
   "id": "5778e6d9-b122-4e7b-a8b8-1e6476812314",
   "metadata": {},
   "source": [
    "### Task: Use Python to calculate the F-statistic and p-value for the given data"
   ]
  },
  {
   "cell_type": "code",
   "execution_count": 9,
   "id": "f12fe6e8-3d37-4dfa-97ca-9a6c82bb7801",
   "metadata": {},
   "outputs": [],
   "source": [
    "# SOLUTION :-"
   ]
  },
  {
   "cell_type": "code",
   "execution_count": 10,
   "id": "7d400d45-be87-4658-b16e-cae020ed9b58",
   "metadata": {},
   "outputs": [
    {
     "name": "stdout",
     "output_type": "stream",
     "text": [
      "F-statistic: 2.089171974522293\n",
      "P-value: 0.24652429950266966\n",
      "Fail to reject the null hypothesis: The variances are equal.\n"
     ]
    }
   ],
   "source": [
    "import numpy as np\n",
    "import scipy.stats as stats\n",
    "profession_a = np.array([48, 52, 55, 60, 62])\n",
    "profession_b = np.array([45, 50, 55, 52, 47])\n",
    "var_a = np.var(profession_a, ddof=1) \n",
    "var_b = np.var(profession_b, ddof=1)\n",
    "f_statistic = var_a / var_b\n",
    "df_a = len(profession_a) - 1\n",
    "df_b = len(profession_b) - 1  \n",
    "\n",
    "# Calculate the p-value\n",
    "p_value = stats.f.sf(f_statistic, df_a, df_b)  # sf = 1 - cdf\n",
    "\n",
    "print(f\"F-statistic: {f_statistic}\")\n",
    "print(f\"P-value: {p_value}\")\n",
    "alpha = 0.05\n",
    "if p_value < alpha:\n",
    "    print(\"Reject the null hypothesis: The variances are significantly different.\")\n",
    "else:\n",
    "    print(\"Fail to reject the null hypothesis: The variances are equal.\")"
   ]
  },
  {
   "cell_type": "markdown",
   "id": "5e2af952-f5b4-4ee4-8650-b0ac80d9d1a0",
   "metadata": {},
   "source": [
    "## If the p-value is less than the significance level (commonly set at 0.05), you reject the null hypothesis, indicating that the variances are significantly different."
   ]
  },
  {
   "cell_type": "markdown",
   "id": "e2ac4992-08a8-493a-ac3e-2560a2aa2375",
   "metadata": {},
   "source": [
    "## If the p-value is greater than the significance level, you fail to reject the null hypothesis, suggesting that the variances are equal"
   ]
  },
  {
   "cell_type": "markdown",
   "id": "7bd30b9c-1b9f-4899-bbe8-54c0dc618491",
   "metadata": {},
   "source": [
    "## NOW WHAT IS F STATIC ?"
   ]
  },
  {
   "cell_type": "markdown",
   "id": "9be15dd8-eb9e-4802-8008-ff8d7bc99a9b",
   "metadata": {},
   "source": [
    "#### The F-statistic is a number that helps you compare the variances (spread) of two different groups of dat"
   ]
  },
  {
   "cell_type": "markdown",
   "id": "ecc5712c-ff8a-408a-93d3-790a9a14da2d",
   "metadata": {},
   "source": [
    "#### In our case, it tells us whether the income variation  in Profession A is different from Profession B."
   ]
  },
  {
   "cell_type": "markdown",
   "id": "d136d59d-46db-413f-8d21-75ae2a409cce",
   "metadata": {},
   "source": [
    "## P VALUE ?"
   ]
  },
  {
   "cell_type": "markdown",
   "id": "c2803efa-2ca9-46f5-a7cc-a8ca847ad379",
   "metadata": {},
   "source": [
    "#### A small p-value (typically less than 0.05) suggests that the observed difference in variances is unlikely to have happened by chance, leading us to reject the idea that the variances are equal"
   ]
  },
  {
   "cell_type": "markdown",
   "id": "23d825f7-eb96-4c79-a641-f50b06d64257",
   "metadata": {},
   "source": [
    "####  it tells us the probability of observing our results (or something more extreme) just by random chance."
   ]
  },
  {
   "cell_type": "markdown",
   "id": "510391bd-f125-4ebf-96f2-a23a1500b1d6",
   "metadata": {},
   "source": [
    "## IN SIMPLE LANGUAGE WE CAN SAY THAT  whether thE comparison is significant enough to conclude OR NOT "
   ]
  },
  {
   "cell_type": "markdown",
   "id": "54acd1df-9a5a-4bc4-9e59-9caff9b7ee43",
   "metadata": {},
   "source": [
    "## 9. Question: Conduct a one-way ANOVA to test whether there are any statistically significant differences in  average heights between three different regions with the following data1"
   ]
  },
  {
   "cell_type": "markdown",
   "id": "0fca50a8-3582-4281-8be1-26a817cf2bdd",
   "metadata": {},
   "source": [
    "###  Region A: [160, 162, 165, 158, 164]"
   ]
  },
  {
   "cell_type": "markdown",
   "id": "2a550675-519b-44a6-89dd-8556e28e5c12",
   "metadata": {},
   "source": [
    "###  Region B: [172, 175, 170, 168, 174]"
   ]
  },
  {
   "cell_type": "markdown",
   "id": "6458055a-0af5-4af6-9f4d-a29af2c236b7",
   "metadata": {},
   "source": [
    "###  Region C: [180, 182, 179, 185, 183]"
   ]
  },
  {
   "cell_type": "markdown",
   "id": "f44426cc-e3ac-4f1f-ac8a-cd4a1e890fe8",
   "metadata": {},
   "source": [
    "## Task: Write Python code to perform the one-way ANOVA and interpret the results"
   ]
  },
  {
   "cell_type": "code",
   "execution_count": null,
   "id": "ee7a58d5-df2d-40b8-b5ff-e4d68ab57720",
   "metadata": {},
   "outputs": [],
   "source": [
    "# SOLUTION :-"
   ]
  },
  {
   "cell_type": "markdown",
   "id": "c89a1d59-fd5a-444e-8f95-0756dd59f45c",
   "metadata": {},
   "source": [
    "### USE OF ONE WAY ANOVA"
   ]
  },
  {
   "cell_type": "markdown",
   "id": "e43acecb-7349-4f2b-9f8d-2ef47d02defd",
   "metadata": {},
   "source": [
    "### In simple language we can say that it used to compare the average values of three or more groups to see if they are different from each other"
   ]
  },
  {
   "cell_type": "markdown",
   "id": "583aaa25-a2ad-45b2-abbf-cac899473399",
   "metadata": {},
   "source": [
    "### now F STATISTIC is used to determine whether the group means are significantly different."
   ]
  },
  {
   "cell_type": "markdown",
   "id": "d14f98a1-c78a-404b-bfeb-168a43cbbe6b",
   "metadata": {},
   "source": [
    "### If the p-value is small (commonly less than 0.05), it suggests that there are significant differences between at least one pair of group means"
   ]
  },
  {
   "cell_type": "code",
   "execution_count": 11,
   "id": "a872838e-fbe6-4255-a260-63c153d577cf",
   "metadata": {},
   "outputs": [
    {
     "name": "stdout",
     "output_type": "stream",
     "text": [
      "F-statistic: 67.87330316742101\n",
      "P-value: 2.8706641879370266e-07\n",
      "Reject the null hypothesis: There are significant differences in average heights between the regions.\n"
     ]
    }
   ],
   "source": [
    "import numpy as np\n",
    "import scipy.stats as stats\n",
    "region_a = np.array([160, 162, 165, 158, 164])\n",
    "region_b = np.array([172, 175, 170, 168, 174])\n",
    "region_c = np.array([180, 182, 179, 185, 183])\n",
    "\n",
    "# Perform one-way ANOVA\n",
    "f_statistic, p_value = stats.f_oneway(region_a, region_b, region_c)\n",
    "print(f\"F-statistic: {f_statistic}\")\n",
    "print(f\"P-value: {p_value}\")\n",
    "alpha = 0.05\n",
    "if p_value < alpha:\n",
    "    print(\"Reject the null hypothesis: There are significant differences in average heights between the regions.\")\n",
    "else:\n",
    "    print(\"Fail to reject the null hypothesis: There are no significant differences in average heights between the regions.\")"
   ]
  },
  {
   "cell_type": "code",
   "execution_count": null,
   "id": "f75f63d6-7476-4c84-b8a3-5d72e7d0d3c8",
   "metadata": {},
   "outputs": [],
   "source": []
  }
 ],
 "metadata": {
  "kernelspec": {
   "display_name": "Python 3 (ipykernel)",
   "language": "python",
   "name": "python3"
  },
  "language_info": {
   "codemirror_mode": {
    "name": "ipython",
    "version": 3
   },
   "file_extension": ".py",
   "mimetype": "text/x-python",
   "name": "python",
   "nbconvert_exporter": "python",
   "pygments_lexer": "ipython3",
   "version": "3.13.0"
  }
 },
 "nbformat": 4,
 "nbformat_minor": 5
}
