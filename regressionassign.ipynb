{
 "cells": [
  {
   "cell_type": "markdown",
   "id": "885033a2-b3b1-4b74-a6f9-afdd5d332a85",
   "metadata": {},
   "source": [
    "# REGRESSION "
   ]
  },
  {
   "cell_type": "markdown",
   "id": "1cb5968a-b0ac-4346-9ffe-68282dbd7e05",
   "metadata": {},
   "source": [
    "## Assignment Question"
   ]
  },
  {
   "cell_type": "markdown",
   "id": "a6e7b3e4-e228-4390-b344-217f4a575f9b",
   "metadata": {},
   "source": [
    "### 1 What is Simple Linear Regression\u001d"
   ]
  },
  {
   "cell_type": "code",
   "execution_count": null,
   "id": "7a246bd4-c8fa-4a6e-9705-b43e6ed42d75",
   "metadata": {},
   "outputs": [],
   "source": [
    "'''\n",
    "\n",
    "Simple linear regression is a statistical method used to model the relationship between\n",
    "two continuous variables by fitting a linear equation to observed data.\n",
    "\n",
    "it is a type of regression analysis where one variable, known as the independent variable\n",
    "(or predictor), is used to predict the value of another variable, known as the dependent \n",
    "variable (or response).\n",
    "\n",
    "\n",
    " The performance of a simple linear regression model can be evaluated using metrics such as \n",
    " R-squared (indicates the proportion of variance in the dependent variable that can be \n",
    " explained by the independent variable).\n",
    " \n",
    " p-values (to determine the statistical significance of predictors), and residual plots\n",
    " (to check the assumptions\n",
    " of the model).\n",
    "\n",
    " \n",
    "'''"
   ]
  },
  {
   "cell_type": "markdown",
   "id": "707c2ac9-7949-4e4c-a28b-6c5c4a9fac12",
   "metadata": {},
   "source": [
    "### 2 What are the key assumptions of Simple Linear Regression\u001d"
   ]
  },
  {
   "cell_type": "code",
   "execution_count": null,
   "id": "b113bef0-bbb6-4aa5-b0e6-447ccfae96cc",
   "metadata": {},
   "outputs": [],
   "source": [
    "'''\n",
    "\n",
    "Assumptions:\n",
    "\n",
    "Linearity: The relationship between the independent and dependent variable should be linear.\n",
    "\n",
    "Independence: Observations should be independent of each other.\n",
    "\n",
    "Homoscedasticity: The variance of residuals (differences between observed and predicted values) \n",
    "should be constant across all levels of the independent variable.\n",
    "\n",
    "Normality: The residuals should be approximately normally distributed\n",
    "(especially important for smaller sample sizes).\n",
    "\n",
    "'''"
   ]
  },
  {
   "cell_type": "markdown",
   "id": "2bb8ec05-b34b-4a61-9251-ae31ac2535c7",
   "metadata": {},
   "source": [
    "### 3 What does the coefficient m represent in the equation Y=mX+c\u001d"
   ]
  },
  {
   "cell_type": "code",
   "execution_count": null,
   "id": "65ff356e-7e46-4e72-9475-99d599f1ff06",
   "metadata": {},
   "outputs": [],
   "source": [
    "'''\n",
    "In the equation Y=mX+cY = mX + cY=mX+c, which represents the equation of a\n",
    "straight line in slope-intercept form, \n",
    "the coefficient m is known as the slope of the line\n",
    "\n",
    " The slope m indicates the rate of change of the dependent variable Y with \n",
    " respect to the independent variable X\n",
    "\n",
    "  If m is positive, it means that as X increases, Y also increases.\n",
    "  \n",
    "  If m is negative, it means that as X  increases, Y decreases\n",
    "\n",
    "  If m=0 , the line is horizontal, implying that changes in X have no effect on Y\n",
    "  \n",
    "'''"
   ]
  },
  {
   "cell_type": "markdown",
   "id": "ad1f3576-5f2f-4f5e-a42e-693f8bf2fb12",
   "metadata": {},
   "source": [
    "### 4  What does the intercept c represent in the equation Y=mX+c\u001d"
   ]
  },
  {
   "cell_type": "code",
   "execution_count": null,
   "id": "ccc3b3d2-cdab-4e61-9225-62c7c79095fc",
   "metadata": {},
   "outputs": [],
   "source": [
    "'''\n",
    "the constant ccc is known as the y-intercept. The y-intercept represents the point where the \n",
    "line crosses the y-axis, and it signifies the value of Y when X=0 \n",
    "\n",
    "It indicates the starting point or the base value of YYY from which the linear relationship begins.\n",
    "\n",
    "If c is positive, the line starts above the x-axis, indicating that even when X=0 \n",
    "the expected value of Y is greater than zero.\n",
    "\n",
    "'''"
   ]
  },
  {
   "cell_type": "markdown",
   "id": "f217fe2d-c433-49df-a3c4-5ddbe0ae0717",
   "metadata": {},
   "source": [
    "### 5 How do we calculate the slope m in Simple Linear Regression\u001d"
   ]
  },
  {
   "cell_type": "code",
   "execution_count": null,
   "id": "a66b7f01-3a7b-42f6-96ac-bfdb0c0e5194",
   "metadata": {},
   "outputs": [],
   "source": [
    "'''\n",
    "\n",
    "the slope m of the best-fit line is calculated using the following formula:\n",
    "\n",
    "m=n(∑xy)−(∑x)(∑y)n/(∑x2)−(∑x)2\n",
    "\n",
    "n = number of data points\n",
    "\n",
    "∑xy = sum of the product of each x and y value\n",
    "\n",
    "∑x = sum of all x values\n",
    "\n",
    "∑y = sum of all y values\n",
    "\n",
    "∑x 2= sum of the squares of xxx values\n",
    " \n",
    "\n",
    "Plug Values into the Slope Formula: Substitute the values into the slope formula to compute m\n",
    "\n",
    "'''"
   ]
  },
  {
   "cell_type": "markdown",
   "id": "2ee22a8a-f78b-4502-8c9b-f3377b4b25ae",
   "metadata": {},
   "source": [
    "### 6 - What is the purpose of the least squares method in Simple Linear Regression\u001d",
    "\n"
   ]
  },
  {
   "cell_type": "code",
   "execution_count": null,
   "id": "c1894765-704c-4ec3-94fe-39cc139563fc",
   "metadata": {},
   "outputs": [],
   "source": [
    "'''\n",
    "\n",
    "The least squares method is a statistical technique used in simple linear regression\n",
    "(as well as multiple regression) to estimate the parameters (coefficients) of the regression model.\n",
    "\n",
    "ts primary purpose is to minimize the difference between the observed values and the values\n",
    "predicted by the regression model\n",
    "\n",
    "The least squares method aims to minimize the sum of squared residuals\n",
    "\n",
    "By minimizing the sum of squared residuals, the least squares method finds the \n",
    "\"best fit\" line that best represents the data.\n",
    "\n",
    "The least squares method provides estimates of the regression coefficients \n",
    "(slope and intercept) that can be used for prediction\n",
    "\n",
    "'''"
   ]
  },
  {
   "cell_type": "markdown",
   "id": "6717c49f-449b-440d-a2da-8f358f326a02",
   "metadata": {},
   "source": [
    "### 7 - How is the coefficient of determination (R²) interpreted in Simple Linear Regression\u001d",
    "\n"
   ]
  },
  {
   "cell_type": "code",
   "execution_count": null,
   "id": "28857b32-dd65-43cd-ad24-ad9ff23d2632",
   "metadata": {},
   "outputs": [],
   "source": [
    "'''\n",
    "\n",
    "R 2 is a key metric in simple linear regression that measures the proportion\n",
    "of variance in the dependent variable that is predictable from the independent variable\n",
    "\n",
    "R 2 indicates the proportion of the variance in the dependent variable (often represented as y)\n",
    "\n",
    "R 2 =0: This indicates that the model explains none of the variability of the dependent variable.\n",
    "\n",
    "R 2=1: This indicates that the model explains all the variability of the dependent variable, \n",
    "meaning all predicted points lie perfectly on the regression line, with no errors.\n",
    "\n",
    "'''"
   ]
  },
  {
   "cell_type": "markdown",
   "id": "20440d16-b017-49a1-96d5-bbf6141b5592",
   "metadata": {},
   "source": [
    "### 8 What is Multiple Linear Regression"
   ]
  },
  {
   "cell_type": "code",
   "execution_count": null,
   "id": "23ba5105-66ac-4548-b73d-bea58b8ed7ae",
   "metadata": {},
   "outputs": [],
   "source": [
    "'''\n",
    "Multiple linear regression is a statistical technique used to model the \n",
    "relationship between one dependent variable and two or more independent variables\n",
    "\n",
    "It extends the concept of simple linear regression, where only one independent\n",
    "variable is used to predict a dependent variable, to accommodate multiple predictors.\n",
    "\n",
    "Coefficients are typically estimated using the least squares method\n",
    "\n",
    " evaluate the performance of a multiple linear regression model, several metrics can be used:\n",
    "\n",
    " R-squared: Indicates the proportion of variance in the dependent variable explained by\n",
    " the independent variables.\n",
    " \n",
    "Adjusted R2:for the number of predictors in the model to prevent overfitting.\n",
    "\n",
    "F-statistic: Tests the overall significance of the regression model.\n",
    "\n",
    "p-values: Assess the significance of individual coefficients.\n",
    "\n",
    "'''"
   ]
  },
  {
   "cell_type": "markdown",
   "id": "3b915398-f260-4ac8-805a-836286a7cfe3",
   "metadata": {},
   "source": [
    "### 9 What is the main difference between Simple and Multiple Linear Regression"
   ]
  },
  {
   "cell_type": "code",
   "execution_count": null,
   "id": "67eac861-b034-401f-9942-91703c7317bb",
   "metadata": {},
   "outputs": [],
   "source": [
    "'''\n",
    "The main differences between simple linear regression and multiple linear regression \n",
    "lie in the number of independent variables used and the complexity\n",
    "of the relationships that each model can represent.\n",
    "\n",
    "Simple Linear Regression:\n",
    "\n",
    "Involves only one independent variable and one dependent variable.\n",
    "\n",
    "Multiple Linear Regression:\n",
    "\n",
    "Involves two or more independent variables predicting a single dependent variable.\n",
    "\n",
    "simple linear regression uses one independent variable to predict a dependent variable,\n",
    "while multiple linear regression utilizes multiple independent variables. \n",
    "\n",
    "\n",
    "'''"
   ]
  },
  {
   "cell_type": "markdown",
   "id": "a99f2b6c-ffa9-4482-88ec-099c429f819f",
   "metadata": {},
   "source": [
    "### 10  What are the key assumptions of Multiple Linear Regression"
   ]
  },
  {
   "cell_type": "code",
   "execution_count": null,
   "id": "7ffed67c-e224-4998-9c22-e399dbe48714",
   "metadata": {},
   "outputs": [],
   "source": [
    "'''\n",
    "Multiple linear regression is based on several key assumptions :-\n",
    "\n",
    "1. Linearity\n",
    "\n",
    "The relationship between the dependent variable and each of the independent \n",
    "variables must be linear.\n",
    "\n",
    "2. Independence\n",
    "\n",
    "The observations (or residuals) should be independent of one another.\n",
    "\n",
    "3. Homoscedasticity\n",
    "\n",
    "The residuals (errors) should have constant variance at each level of the independent variables\n",
    "\n",
    "4. Normality of Residuals\n",
    "\n",
    "The residuals of the model should be approximately normally distributed\n",
    "\n",
    "5. No Multicollinearity\n",
    "\n",
    "Multicollinearity occurs when two or more independent variables are highly correlated \n",
    "with one another, which can make it difficult to determine the individual effect of \n",
    "each predictor on the dependent variable.\n",
    "\n",
    "\n",
    "'''"
   ]
  },
  {
   "cell_type": "markdown",
   "id": "a662cb5c-f349-45dc-a23a-0b214572a414",
   "metadata": {},
   "source": [
    "### 11 What is heteroscedasticity, and how does it affect the results of a Multiple Linear Regression model"
   ]
  },
  {
   "cell_type": "code",
   "execution_count": null,
   "id": "0bb67e13-f709-4742-ba91-36338553b5b4",
   "metadata": {},
   "outputs": [],
   "source": [
    "'''\n",
    "Heteroscedasticity refers to a condition in regression analysis where the variance of\n",
    "the errors (or residuals) is not constant across all levels of the independent variable(s)\n",
    "\n",
    "it implies that the spread of the residuals varies for different values of the predictor(s).\n",
    "\n",
    "Inefficient Estimates: While heteroscedasticity does not cause bias in the coefficient\n",
    "estimates of a multiple linear regression model, it affects the efficiency of the estimates.]\n",
    "\n",
    "Invalid Statistical Tests: Due to the inefficiencies in the estimates, the statistical tests \n",
    "(like t-tests for coefficients and F-tests for overall model fit) can produce misleading results.\n",
    "\n",
    "Model Fit: Heteroscedasticity may indicate that the model is not correctly specified\n",
    "(e.g., missing variables, non-linear relationships).\n",
    "\n",
    "'''"
   ]
  },
  {
   "cell_type": "markdown",
   "id": "566bc7c2-7990-449a-ae2c-9ff00e8b4c04",
   "metadata": {},
   "source": [
    "### 12  How can you improve a Multiple Linear Regression model with high multicollinearity\u001d"
   ]
  },
  {
   "cell_type": "code",
   "execution_count": null,
   "id": "ec28f0c5-a12e-471f-b775-787e6166b0df",
   "metadata": {},
   "outputs": [],
   "source": [
    "'''\n",
    "several strategies to address and improve a multiple linear\n",
    "regression model with high multicollinearity:\n",
    "\n",
    "1. Remove Highly Correlated Predictors\n",
    "Identify Correlated Variables: Begin by checking the correlation matrix \n",
    "or using Variance Inflation Factor (VIF) scores to identify highly correlated variables.\n",
    "\n",
    "2 Eliminate Variables: If two variables are highly correlated, consider removing one of them,\n",
    "especially if they contribute similar information to the model.\n",
    "\n",
    "Feature Engineering: Combine correlated predictors into a single, meaningful variable \n",
    "(e.g., by taking the average or creating an index) to reduce dimensionality and correlation.\n",
    "\n",
    "Lasso Regression (L1 Regularization): Lasso can help address multicollinearity by penalizing\n",
    "the absolute size of the coefficients, effectively shrinking some of them to zero and selecting\n",
    "a simpler model with fewer predictors.\n",
    "\n",
    "\n",
    "'''"
   ]
  },
  {
   "cell_type": "markdown",
   "id": "17cccfc0-9b90-4ffc-8f1d-77dfb66a1b2b",
   "metadata": {},
   "source": [
    "### 13 - What are some common techniques for transforming categorical variables for use in regression models"
   ]
  },
  {
   "cell_type": "code",
   "execution_count": null,
   "id": "c8d45e63-6886-487e-857c-096d0416e5c0",
   "metadata": {},
   "outputs": [],
   "source": [
    "'''\n",
    "\n",
    "One-Hot Encoding: Each category of a categorical variable is represented by a\n",
    "binary variable (dummy or indicator variable) where one category is coded as 1 and others as 0.\n",
    "\n",
    "Label Encoding\n",
    "Assign a Value to Each Category: Assign a numeric value to each category. This can be based on\n",
    "the alphabetical order of the categories or some other logical scheme.\n",
    "\n",
    "Ordinal Encoding\n",
    "Preserve Order: If the categories have an inherent order or ranking, ordinal encoding\n",
    "preserves this order.\n",
    "\n",
    "Binary Encoding\n",
    "Transform Categories into Binary Variables: This involves creating binary variables \n",
    "where one category is represented by 1 and the others by 0.\n",
    "\n",
    "Polynomial Encoding\n",
    "Create Interaction Terms: If there are more than two categories, polynomial\n",
    "encoding can be used to create interaction terms between categories.\n",
    "\n",
    "'''"
   ]
  },
  {
   "cell_type": "markdown",
   "id": "df352b70-f560-4acc-9250-7ccf1cbaf096",
   "metadata": {},
   "source": [
    "### 14 What is the role of interaction terms in Multiple Linear Regression"
   ]
  },
  {
   "cell_type": "code",
   "execution_count": null,
   "id": "b69681df-abd9-4956-ac5e-2e588663b3d6",
   "metadata": {},
   "outputs": [],
   "source": [
    "'''\n",
    "Interaction terms play a significant role in multiple linear regression by allowing\n",
    "researchers to explore and quantify the joint effect of two or more independent variables\n",
    "on a dependent variable\n",
    "\n",
    "While multiple linear regression allows for the estimation of individual effects of predictors,\n",
    "interaction terms help to capture situations\n",
    "\n",
    "Non-Linearity: Sometimes, the relationship between an independent variable and the dependent\n",
    "variable is not simply additive\n",
    "\n",
    "Improving Model Fit\n",
    "Explaining Variability: By including interaction terms, you can potentially improve the model fit\n",
    "\n",
    "They are crucial for understanding complex relationships, improving model fit, and facilitating \n",
    "more nuanced interpretations of regression results.\n",
    "\n",
    "'''"
   ]
  },
  {
   "cell_type": "markdown",
   "id": "8334cf25-6c05-44ce-95b5-3eee8a1ec8ad",
   "metadata": {},
   "source": [
    "### 15 How can the interpretation of intercept differ between Simple and Multiple Linear Regression"
   ]
  },
  {
   "cell_type": "code",
   "execution_count": null,
   "id": "8dcbd7e0-49ce-4405-8155-da314c0fdfed",
   "metadata": {},
   "outputs": [],
   "source": [
    "'''\n",
    "The interpretation of the intercept in linear regression models can differ\n",
    "significantly between simple linear regression and multiple linear regression \n",
    "due to the number of independent variables included in the models\n",
    "\n",
    "The intercept represents the expected value of Y when X=0\n",
    "\n",
    "It reflects the baseline level of the dependent variable when all predictors\n",
    "(in this case, just one) are set to zero. \n",
    "\n",
    ". Multiple Linear Regression\n",
    "\n",
    "The intercept still represents the expected value of Y but under the condition that all independent\n",
    "variables are equal to zero\n",
    "\n",
    "the intercept may become a mathematical artifact rather than having\n",
    "a meaningful real-world interpretation.\n",
    "\n",
    "\n",
    "'''"
   ]
  },
  {
   "cell_type": "markdown",
   "id": "dfabaef3-b281-4858-834b-c96ccaeeff70",
   "metadata": {},
   "source": [
    "### 16 What is the significance of the slope in regression analysis, and how does it affect predictions"
   ]
  },
  {
   "cell_type": "code",
   "execution_count": null,
   "id": "1e63207e-f8c6-4fbb-b764-7d42ea57a3c4",
   "metadata": {},
   "outputs": [],
   "source": [
    "'''\n",
    "The slope in regression analysis is a critical component that quantifies the \n",
    "relationship between an independent variable (or variables) and a dependent variable.\n",
    "\n",
    " Its significance and implications for predictions are essential to understand when\n",
    " interpreting regression results. \n",
    "\n",
    " In both simple and multiple linear regression, the slope refers to the coefficient \n",
    " of an independent variable\n",
    "\n",
    " The slope indicates the direction and strength of the relationship between an \n",
    " independent variable and the dependent variable:\n",
    "\n",
    "A positive slope (beta >0) means that as the independent variable increases, \n",
    "the dependent variable also tends to increase.\n",
    "\n",
    "A negative slope (beta < 0) means that as the independent variable increases,\n",
    "the dependent variable tends to decrease.\n",
    "\n",
    "\n",
    "'''"
   ]
  },
  {
   "cell_type": "markdown",
   "id": "202dca58-709b-4465-9754-cc76a8c59b40",
   "metadata": {},
   "source": [
    "### 17 How does the intercept in a regression model provide context for the relationship between variables"
   ]
  },
  {
   "cell_type": "code",
   "execution_count": null,
   "id": "e1fc406c-570f-4f47-8d83-cc10f81bceac",
   "metadata": {},
   "outputs": [],
   "source": [
    "'''\n",
    "The intercept in a regression model is a critical component for understanding \n",
    "the relationship between the independent and dependent variables.\n",
    "\n",
    "In a linear regression model, the intercept is represented by beta0\n",
    "and serves as the value of the dependent variable (Y) when all independent variables (X)\n",
    "are equal to zero.\n",
    "\n",
    " Its ability to reflect baseline values, contextual shifts, and practical implications \n",
    " makes it an essential consideration for effectively understanding regression analysis. \n",
    "\n",
    " However, care must be taken to ensure that the intercept's interpretation aligns with the \n",
    " underlying conditions of the data and the context of the variables involved.\n",
    " \n",
    "\n",
    "'''"
   ]
  },
  {
   "cell_type": "markdown",
   "id": "af8a696c-d524-4be2-995d-43696f417691",
   "metadata": {},
   "source": [
    "### 18 What are the limitations of using R² as a sole measure of model performance"
   ]
  },
  {
   "cell_type": "code",
   "execution_count": null,
   "id": "a33ef7ed-9141-4b07-97d2-232bf5557a8a",
   "metadata": {},
   "outputs": [],
   "source": [
    "'''\n",
    "1. Sensitivity to Number of Predictors\n",
    "Increased R² with More Predictors: R² never decreases when more variables are added to\n",
    "the model, which can lead to misleading interpretations. \n",
    "\n",
    "A model with more variables may have a higher R², but this does not necessarily mean\n",
    "it is a better model.\n",
    "\n",
    "2. Lack of Contextual Meaning\n",
    "Does Not Indicate Causation: A high R² value does not imply that there is a causal\n",
    "relationship between the independent and dependent variables.\n",
    "\n",
    "3. Ignores the Quality of Prediction\n",
    "Does Not Measure Prediction Accuracy: R² does not provide information about how \n",
    "well the model predicts new, unseen data\n",
    "\n",
    "4. Assumption of Linearity\n",
    "Assumes Linear Relationships: R² is most appropriate for linear relationships and \n",
    "can be misleading when applied to non-linear models.\n",
    "\n",
    "'''"
   ]
  },
  {
   "cell_type": "markdown",
   "id": "ddf74048-789b-490d-8c57-2394674005b6",
   "metadata": {},
   "source": [
    "### 19 How would you interpret a large standard error for a regression coefficient\u001d"
   ]
  },
  {
   "cell_type": "code",
   "execution_count": null,
   "id": "cf8e34cd-9f20-42b6-a0af-e56afbfc7401",
   "metadata": {},
   "outputs": [],
   "source": [
    "'''\n",
    "Variance in Data: A large standard error typically suggests that there is\n",
    "considerable variability in the data that is being modeled.\n",
    "\n",
    "Sample Size: Standard errors are inversely related to sample size. \n",
    "Therefore, a large standard error can also arise from a small sample size\n",
    "\n",
    "Multicollinearity: If the predictors in the regression model are highly \n",
    "correlated with each other, it can inflate the standard errors of the regression coefficients. \n",
    "\n",
    "Model Specification: A large standard error might suggest issues with model specification.\n",
    "\n",
    "Interpretation of Coefficient: If the standard error is large relative to the estimated \n",
    "coefficient itself, it suggests that the effect of the predictor variable may not be\n",
    "practically significant\n",
    "\n",
    "'''"
   ]
  },
  {
   "cell_type": "markdown",
   "id": "008990b2-d7e2-4670-8edc-de51adb6ccbf",
   "metadata": {},
   "source": [
    "### 20 - How can heteroscedasticity be identified in residual plots, and why is it important to address it"
   ]
  },
  {
   "cell_type": "code",
   "execution_count": null,
   "id": "eb58205e-a763-4ad8-9ce0-c9ef1723feb5",
   "metadata": {},
   "outputs": [],
   "source": [
    "'''\n",
    "Identification of Heteroscedasticity in Residual Plots:\n",
    "\n",
    "Residuals vs. Fitted Values Plot: \n",
    "\n",
    "What to Look For: Plot the residuals (y-axis) against the fitted values (y-axis). \n",
    "If the residuals are randomly scattered around zero with constant variance, \n",
    "it suggests homoscedasticity.\n",
    "\n",
    "Scale-Location Plot: \n",
    "\n",
    "This plot displays the square root of the standardized residuals against the fitted values.\n",
    "\n",
    "display differing spread.\n",
    "Statistical Tests: \n",
    "\n",
    "There are formal statistical tests for heteroscedasticity, such as the Breusch-Pagan test \n",
    "and the White test, which can supplement visual inspection methods.\n",
    "\n",
    "'''"
   ]
  },
  {
   "cell_type": "markdown",
   "id": "4d5f13d1-7599-49d7-9832-16b195e4d0fb",
   "metadata": {},
   "source": [
    "### 21  What does it mean if a Multiple Linear Regression model has a high R² but low adjusted R²"
   ]
  },
  {
   "cell_type": "code",
   "execution_count": null,
   "id": "81ef97b5-825f-4c9f-9a4d-3c176428f41a",
   "metadata": {},
   "outputs": [],
   "source": [
    "'''\n",
    "\n",
    "A high R² coupled with a low adjusted R² typically indicates that the model\n",
    "has included several predictors that do not contribute meaningfully to explaining \n",
    "the variance in the dependent variable\n",
    "\n",
    "The presence of a high R² and low adjusted R² suggests the model could be overfitting \n",
    "the data, where it describes the noise in the training data rather than the underlying \n",
    "relationship.\n",
    "\n",
    "A model with high R² but low adjusted R² signals that researchers and analysts should be cautious. \n",
    "\n",
    "a high R² combined with a low adjusted R² indicates potential issues with the regression model,\n",
    "particularly the inclusion of extraneous or non-significant predictors. \n",
    "\n",
    "'''"
   ]
  },
  {
   "cell_type": "markdown",
   "id": "73a3f8b0-fb0e-4c61-9044-fa570dbb0156",
   "metadata": {},
   "source": [
    "### 22 Why is it important to scale variables in Multiple Linear Regression"
   ]
  },
  {
   "cell_type": "code",
   "execution_count": null,
   "id": "3aafc617-beac-43b3-afba-09b4b507f5c4",
   "metadata": {},
   "outputs": [],
   "source": [
    "'''\n",
    "\n",
    "Scaling helps reduce the risk of numerical instability, which can occur when\n",
    "dealing with very large or very small values during calculations.\n",
    "\n",
    "if independent variables are measured in different units or orders of magnitude, \n",
    "the resulting coefficients can be difficult to interpret.\n",
    "\n",
    "When variables are standardized (mean = 0, standard deviation = 1), \n",
    "the coefficients reflect the change in the dependent variable in terms of standard deviations,\n",
    "making it easier to compare the effect sizes of different predictors.\n",
    "\n",
    "When predictors are on vastly different scales, it can exacerbate multicollinearity issues,\n",
    "where predictors are correlated with each other, inflating the standard errors of the coefficients.\n",
    "\n",
    "'''"
   ]
  },
  {
   "cell_type": "markdown",
   "id": "afb38418-9d6b-4837-abbb-c9e74fbd26df",
   "metadata": {},
   "source": [
    "### 23 What is polynomial regression"
   ]
  },
  {
   "cell_type": "code",
   "execution_count": null,
   "id": "60d2cfaf-d878-425d-a3b8-0d2c814b1307",
   "metadata": {},
   "outputs": [],
   "source": [
    "'''\n",
    "\n",
    "Polynomial regression is a type of regression analysis used to model the relationship \n",
    "between a dependent variable and one or more independent variables when the relationship\n",
    "is expected to follow a polynomial form.\n",
    "\n",
    "\n",
    "The degree of the polynomial  determines how many bends the curve can have.\n",
    "\n",
    "\n",
    "A first-degree polynomial (linear regression) is a straight line, \n",
    "a second-degree polynomial is a quadratic equation (a parabola)\n",
    "\n",
    "\n",
    "Polynomial regression is commonly used when the relationship between \n",
    "the independent and dependent variable exhibits curvature\n",
    "\n",
    "\n",
    "'''"
   ]
  },
  {
   "cell_type": "markdown",
   "id": "2185e463-549f-48c0-9954-2393188c2d4e",
   "metadata": {},
   "source": [
    "### 24 How does polynomial regression differ from linear regression"
   ]
  },
  {
   "cell_type": "code",
   "execution_count": null,
   "id": "3d58cccf-11cc-4a02-ade5-a4b7d976bad9",
   "metadata": {},
   "outputs": [],
   "source": [
    "'''\n",
    "Linear Regression:\n",
    "\n",
    "The relationship between the dependent variable y and the independent variable x is \n",
    "modeled as a straight line. \n",
    "\n",
    "\n",
    "Polynomial Regression:\n",
    "\n",
    "The relationship is modeled as a polynomial function, allowing for curves or bends.\n",
    "\n",
    "Linear Regression:\n",
    "\n",
    "Assumes a linear relationship, which means it may not adequately capture \n",
    "complex relationships between variables.\n",
    "\n",
    "Polynomial Regression:\n",
    "\n",
    "Can model nonlinear relationships by using higher-degree polynomials.\n",
    "'''"
   ]
  },
  {
   "cell_type": "markdown",
   "id": "516f090a-6da3-431f-b042-f5beb7dec604",
   "metadata": {},
   "source": [
    "### 25 - When is polynomial regression used"
   ]
  },
  {
   "cell_type": "code",
   "execution_count": null,
   "id": "7d5593c6-bd79-4f28-b82b-6f94b68e5351",
   "metadata": {},
   "outputs": [],
   "source": [
    "'''\n",
    "\n",
    "Polynomial regression is used in various scenarios where the relationship \n",
    "between the dependent variable and independent variable(s) is nonlinear.\n",
    "\n",
    "\n",
    "Curved Trends: If the scatter plot of your data shows a clear curve\n",
    "polynomial regression can capture this nonlinearity more effectively than linear regression.\n",
    "\n",
    "\n",
    " Many natural phenomena, such as biological growth rates, may not follow a linear trend. \n",
    "\n",
    " \n",
    " For instance, the growth of a plant in response to nutrients may initially increase rapidly \n",
    " and then slow down, indicating a quadratic relationship.\n",
    "\n",
    "\n",
    "When analyzing historical trends in time series data (e.g., economic indicators, stock prices), \n",
    "a polynomial fit might help in understanding underlying patterns or future projections.\n",
    "\n",
    "\n",
    "'''"
   ]
  },
  {
   "cell_type": "markdown",
   "id": "a4c553b2-17ca-4fee-a96a-7c65ca6ad46c",
   "metadata": {},
   "source": [
    "### 26 What is the general equation for polynomial regression"
   ]
  },
  {
   "cell_type": "code",
   "execution_count": null,
   "id": "78948177-34bc-4bf4-b992-29264c902903",
   "metadata": {},
   "outputs": [],
   "source": [
    "'''\n",
    "General equation for polynomial regression\n",
    "'''"
   ]
  },
  {
   "cell_type": "markdown",
   "id": "5e74520b-80ed-4237-86a5-26be26db03e9",
   "metadata": {},
   "source": [
    "### y=β0+β1x+β2x^2+β3x^3+…+βn"
   ]
  },
  {
   "cell_type": "code",
   "execution_count": null,
   "id": "05ec9cac-aa9e-444e-bdb6-ce7bce0c3070",
   "metadata": {},
   "outputs": [],
   "source": []
  },
  {
   "cell_type": "markdown",
   "id": "5d9cb9b3-40bc-4f9e-b6eb-3f6ad5a5110d",
   "metadata": {},
   "source": [
    "### 27 Can polynomial regression be applied to multiple variables\u001d",
    "\n"
   ]
  },
  {
   "cell_type": "code",
   "execution_count": null,
   "id": "59a91d35-038a-4cdf-a224-b4646225c454",
   "metadata": {},
   "outputs": [],
   "source": [
    "'''\n",
    "\n",
    "Yes, polynomial regression can be applied to multiple variables \n",
    "(also referred to as multivariate polynomial regression)\n",
    "\n",
    " The general equation for a multivariate polynomial regression with two independent variables\n",
    " x1 and x2\n",
    "\n",
    " polynomial regression can effectively handle multiple independent variables, \n",
    " allowing for more complex relationships in the data.\n",
    " \n",
    " It is a powerful tool in machine learning and statistical analysis when the \n",
    " underlying relationships are not linear.\n",
    "\n",
    "'''"
   ]
  },
  {
   "cell_type": "markdown",
   "id": "0b1b0506-964a-470a-9016-7bee7c247d3c",
   "metadata": {},
   "source": [
    "### 28 What are the limitations of polynomial regression"
   ]
  },
  {
   "cell_type": "code",
   "execution_count": null,
   "id": "20bdae71-a439-4aea-a21e-4c8095d28221",
   "metadata": {},
   "outputs": [],
   "source": [
    "'''\n",
    "\n",
    "Overfitting: Polynomial regression can suffer from overfitting, \n",
    "especially with high-degree polynomials. \n",
    "\n",
    "Interpretability: As the degree of the polynomial increases, the model\n",
    "becomes harder to interpret. It's challenging to understand how each feature contributes\n",
    "to the outcome, \n",
    "\n",
    "Computational Complexity: High-degree polynomial regression models can be computationally \n",
    "intensive to train and predict on. \n",
    "\n",
    "Non-Linearity: While polynomial regression can capture non-linear relationships, \n",
    "it does so in a piecewise manner. \n",
    "\n",
    "Optimization Challenges: Training a polynomial regression model can be challenging\n",
    "due to its non-convex nature, making it difficult to optimize the parameters without \n",
    "getting stuck in local optima.\n",
    "\n",
    "\n",
    "'''"
   ]
  },
  {
   "cell_type": "markdown",
   "id": "661de87b-88de-415b-a604-ef27d51804a9",
   "metadata": {},
   "source": [
    "### 29 What methods can be used to evaluate model fit when selecting the degree of a polynomial\n"
   ]
  },
  {
   "cell_type": "code",
   "execution_count": null,
   "id": "21a1d256-721d-4949-ae3a-4470ac222410",
   "metadata": {},
   "outputs": [],
   "source": [
    "'''\n",
    "\n",
    "Visual Inspection of Residuals:\n",
    "\n",
    "Plot the residuals (the differences between observed and predicted values)\n",
    "against the predicted values or the independent variables.\n",
    "\n",
    "\n",
    "Cross-Validation:\n",
    "\n",
    "Use techniques such as k-fold cross-validation to evaluate model performance\n",
    "on different subsets of the data. \n",
    "\n",
    "\n",
    "Adjusted R-squared:\n",
    "\n",
    "Adjusted R-squared is a modification of the R-squared statistic that accounts for \n",
    "the number of predictors in the model.\n",
    "\n",
    "It adjusts the R-squared value downward when \n",
    "unnecessary predictors are added, thereby helping to compare models with different numbers\n",
    "of polynomial terms.\n",
    "\n",
    "Mean Squared Error (MSE) / Root Mean Squared Error (RMSE):\n",
    "These metrics measure the average squared difference between the observed and predicted values. \n",
    "\n",
    "'''"
   ]
  },
  {
   "cell_type": "markdown",
   "id": "9c566a5e-c7b6-4e2d-869e-1026025f6c16",
   "metadata": {},
   "source": [
    "### 30 Why is visualization important in polynomial regression"
   ]
  },
  {
   "cell_type": "code",
   "execution_count": null,
   "id": "58cd4deb-cde6-42ce-b146-48c287bcd660",
   "metadata": {},
   "outputs": [],
   "source": [
    "'''\n",
    "Visualization allows researchers and data scientists to grasp the underlying\n",
    "relationships in the data.\n",
    "\n",
    "By plotting the data points along with the fitted polynomial curve, one can easily \n",
    "see how well the model captures the relationship between the independent and dependent variables.\n",
    "\n",
    "Visualizing the data can reveal trends, patterns, and structures that may not be apparent\n",
    "from numerical \n",
    "summaries alone\n",
    "\n",
    "\n",
    "By plotting the fitted polynomial against the original data, one can visually \n",
    "assess whether the model is overfitting (too complex) or underfitting (too simple). \n",
    "\n",
    "An overly complex model may wiggle too much to fit the training data closely,\n",
    "'''"
   ]
  },
  {
   "cell_type": "markdown",
   "id": "ed444f64-f27a-4e3a-b362-237aabdc6e61",
   "metadata": {},
   "source": [
    "### 31 - How is polynomial regression implemented in Python?"
   ]
  },
  {
   "cell_type": "code",
   "execution_count": null,
   "id": "5a1a1677-0fc7-4f68-8ad6-619d3bf2ebd5",
   "metadata": {},
   "outputs": [],
   "source": [
    "'''\n",
    "Steps to Implement Polynomial Regression\n",
    "\n",
    "Import Libraries: First, import the necessary libraries.\n",
    "\n",
    "Prepare Data: Create or load the dataset you want to work with. \n",
    "The dataset should consist of predictor variables (features) and a response variable (target).\n",
    "\n",
    "\n",
    "Transform Data: Use polynomial features to transform your input features into \n",
    "a polynomial feature space.\n",
    "\n",
    "Fit Model: Use a regression model to fit the transformed features.\n",
    "\n",
    "Make Predictions: Use the fitted model to make predictions on the data.\n",
    "\n",
    "Visualize Results: Optionally, visualize the results.\n",
    "\n",
    "'''"
   ]
  },
  {
   "cell_type": "code",
   "execution_count": null,
   "id": "9bfbc502-9e64-4ce9-b979-cb971779eaca",
   "metadata": {},
   "outputs": [],
   "source": [
    "# FOR EXAMPLE :-"
   ]
  },
  {
   "cell_type": "code",
   "execution_count": 3,
   "id": "822606c7-5a89-4609-907f-540201db0939",
   "metadata": {},
   "outputs": [
    {
     "data": {
      "image/png": "[encoded data removed]",
      "text/plain": [
       "<Figure size 640x480 with 1 Axes>"
      ]
     },
     "metadata": {},
     "output_type": "display_data"
    }
   ],
   "source": [
    "import numpy as np\n",
    "import matplotlib.pyplot as plt\n",
    "from sklearn.model_selection import train_test_split\n",
    "from sklearn.preprocessing import PolynomialFeatures\n",
    "from sklearn.linear_model import LinearRegression\n",
    "np.random.seed(0)\n",
    "X = np.random.rand(100, 1) * 10 \n",
    "y = 0.5 * X**2 - 2 * X + np.random.randn(100, 1) \n",
    "X_train, X_test, y_train, y_test = train_test_split(X, y, test_size=0.2, random_state=0)\n",
    "degree = 5  # Degree of the polynomial\n",
    "poly = PolynomialFeatures(degree)\n",
    "X_poly_train = poly.fit_transform(X_train)\n",
    "X_poly_test = poly.transform(X_test)\n",
    "model = LinearRegression()\n",
    "model.fit(X_poly_train, y_train)\n",
    "y_pred = model.predict(X_poly_test)\n",
    "plt.scatter(X, y, color='blue', label='Data points')\n",
    "plt.scatter(X_test, y_pred, color='red', label='Predictions')\n",
    "X_range = np.linspace(0, 10, 100).reshape(-1, 1)\n",
    "X_range_poly = poly.transform(X_range)\n",
    "y_range = model.predict(X_range_poly)\n",
    "plt.plot(X_range, y_range, color='green', label='Polynomial Regression Line')\n",
    "plt.title('Polynomial Regression')\n",
    "plt.xlabel('X')\n",
    "plt.ylabel('y')\n",
    "plt.legend()\n",
    "plt.show()"
   ]
  },
  {
   "cell_type": "code",
   "execution_count": null,
   "id": "92e4a603-f9bc-4756-a7c4-f05d6b7841bf",
   "metadata": {},
   "outputs": [],
   "source": []
  }
 ],
 "metadata": {
  "kernelspec": {
   "display_name": "Python 3 (ipykernel)",
   "language": "python",
   "name": "python3"
  },
  "language_info": {
   "codemirror_mode": {
    "name": "ipython",
    "version": 3
   },
   "file_extension": ".py",
   "mimetype": "text/x-python",
   "name": "python",
   "nbconvert_exporter": "python",
   "pygments_lexer": "ipython3",
   "version": "3.13.0"
  }
 },
 "nbformat": 4,
 "nbformat_minor": 5
}
